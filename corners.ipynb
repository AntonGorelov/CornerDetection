{
 "cells": [
  {
   "cell_type": "code",
   "execution_count": 3,
   "metadata": {
    "collapsed": true
   },
   "outputs": [],
   "source": [
    "import os\n",
    "import numpy as np\n",
    "import cv2\n",
    "from matplotlib import pyplot as plt\n",
    "%matplotlib inline"
   ]
  },
  {
   "cell_type": "code",
   "execution_count": 7,
   "metadata": {
    "collapsed": false
   },
   "outputs": [],
   "source": [
    "# fnames = ['sample1.jpg', 'chessboard.jpg']\n",
    "color_red = [255, 0, 0]\n",
    "radius = 3\n",
    "img_format = {'jpg', 'png'}\n",
    "folder_good = './good'\n",
    "folder_bad = './bad'\n",
    "\n",
    "FOLDER = folder_good\n",
    "\n",
    "def nothing(x):\n",
    "    pass\n",
    "\n",
    "def get_images_in_dir(directory=FOLDER):\n",
    "    files = os.listdir(directory)\n",
    "    files = [os.path.join(directory, f) for f in files]\n",
    "    images = [f for f in files if (f.split('.')[-1] in img_format)]\n",
    "    return images\n",
    "\n",
    "fnames = get_images_in_dir()\n",
    "cv2.namedWindow('image', flags=cv2.WINDOW_NORMAL)\n",
    "# cv2.namedWindow('image', flags=cv2.WINDOW_AUTOSIZE)\n",
    "\n",
    "cv2.createTrackbar('Image', 'image', 0, len(fnames)-1, nothing)\n",
    "# cv2.createTrackbar('ImagesShowType', 'image', 1, 2, nothing)\n",
    "# cv2.createTrackbar('UseHarris', 'image', 1, 1, nothing)\n",
    "# cv2.createTrackbar('MaxCorners', 'image', 0, 700, nothing)\n",
    "cv2.createTrackbar('MinDistance', 'image', 10, 100, nothing)\n",
    "cv2.createTrackbar('QualityLevel', 'image', 5, 100, nothing)\n",
    "\n",
    "img_num = 0\n",
    "\n",
    "while(1):\n",
    "    img_num = cv2.getTrackbarPos('Image','image')\n",
    "#     use_Harris = cv2.getTrackbarPos('UseHarris', 'image') % 2 == 0\n",
    "    use_Harris = False\n",
    "#     max_corners = cv2.getTrackbarPos('MaxCorners', 'image')\n",
    "    max_corners = 0\n",
    "#     concat_type = cv2.getTrackbarPos('ImagesShowType', 'image')\n",
    "    concat_type = 1\n",
    "    min_distance = cv2.getTrackbarPos('MinDistance', 'image')\n",
    "    quality_Level = cv2.getTrackbarPos('QualityLevel', 'image') / float(100)\n",
    "    \n",
    "    if quality_Level == 0:\n",
    "        quality_Level = 0.01\n",
    "\n",
    "    img_src = cv2.imread(fnames[img_num])\n",
    "    img = img_src.copy()\n",
    "    gray = cv2.cvtColor(img,cv2.COLOR_BGR2GRAY)\n",
    "    gray = np.float32(gray)\n",
    "\n",
    "    corners = cv2.goodFeaturesToTrack(image=gray, \n",
    "                                      maxCorners=max_corners, \n",
    "                                      qualityLevel=quality_Level, \n",
    "                                      minDistance=min_distance, \n",
    "                                      useHarrisDetector=use_Harris)\n",
    "    corners = np.int0(corners)\n",
    "\n",
    "    for i in corners:\n",
    "        x,y = i.ravel()\n",
    "        cv2.circle(img, (x, y), radius, color_red, -1)\n",
    "\n",
    "    img = np.uint8(img)\n",
    "\n",
    "    if concat_type == 2:\n",
    "        result_img = img\n",
    "    else:\n",
    "        result_img = np.concatenate((img_src, img), axis=concat_type)\n",
    "    cv2.imshow('image',result_img)\n",
    "\n",
    "    k = cv2.waitKey(1) & 0xFF\n",
    "    if k == 27:\n",
    "        break\n",
    "\n",
    "cv2.destroyAllWindows()"
   ]
  },
  {
   "cell_type": "code",
   "execution_count": null,
   "metadata": {
    "collapsed": true
   },
   "outputs": [],
   "source": []
  },
  {
   "cell_type": "code",
   "execution_count": null,
   "metadata": {
    "collapsed": true
   },
   "outputs": [],
   "source": []
  }
 ],
 "metadata": {
  "anaconda-cloud": {},
  "kernelspec": {
   "display_name": "Python 2",
   "language": "python",
   "name": "python2"
  },
  "language_info": {
   "codemirror_mode": {
    "name": "ipython",
    "version": 2
   },
   "file_extension": ".py",
   "mimetype": "text/x-python",
   "name": "python",
   "nbconvert_exporter": "python",
   "pygments_lexer": "ipython2",
   "version": "2.7.13"
  }
 },
 "nbformat": 4,
 "nbformat_minor": 2
}
